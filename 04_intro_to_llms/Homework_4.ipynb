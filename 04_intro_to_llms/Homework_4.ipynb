{
 "cells": [
  {
   "cell_type": "markdown",
   "metadata": {},
   "source": [
    "### Let's write an elementary tokenizer that uses words as tokens.\n",
    "\n",
    "We will use Mark Twain's _Life On The Mississippi_ as a test bed. The text is in the accompanying file 'Life_On_The_Mississippi.txt'\n",
    "\n",
    "Here's a not-terribly-good such tokenizer:"
   ]
  },
  {
   "cell_type": "code",
   "execution_count": 1,
   "metadata": {},
   "outputs": [
    {
     "name": "stdout",
     "output_type": "stream",
     "text": [
      "('\\ufeffThe', 1)\n",
      "('Project', 79)\n",
      "('Gutenberg', 22)\n",
      "('eBook', 4)\n",
      "('of', 4469)\n",
      "('Life', 5)\n",
      "('on', 856)\n",
      "('the', 8443)\n",
      "('Mississippi', 104)\n",
      "('This', 127)\n",
      "('ebook', 2)\n",
      "('is', 1076)\n",
      "('for', 1017)\n",
      "('use', 34)\n",
      "('anyone', 4)\n",
      "('anywhere', 8)\n",
      "('in', 2381)\n",
      "('United', 36)\n",
      "('States', 26)\n",
      "('and', 5692)\n",
      "('most', 119)\n",
      "('other', 223)\n",
      "('parts', 5)\n",
      "('world', 40)\n",
      "('at', 676)\n",
      "('no', 325)\n",
      "('cost', 18)\n",
      "('with', 1053)\n",
      "('almost', 37)\n",
      "('restrictions', 2)\n",
      "('whatsoever.', 2)\n",
      "('You', 92)\n",
      "('may', 85)\n",
      "('copy', 12)\n",
      "('it,', 199)\n",
      "('give', 67)\n",
      "('it', 1382)\n",
      "('away', 107)\n",
      "('or', 561)\n",
      "('re-use', 2)\n",
      "('under', 112)\n",
      "('terms', 22)\n",
      "('License', 8)\n",
      "('included', 2)\n",
      "('this', 591)\n",
      "('online', 4)\n",
      "('www.gutenberg.org.', 4)\n",
      "('If', 85)\n",
      "('you', 813)\n",
      "('are', 361)\n",
      "('not', 680)\n",
      "('located', 9)\n",
      "('States,', 8)\n",
      "('will', 287)\n",
      "('have', 557)\n",
      "('to', 3518)\n",
      "('check', 4)\n",
      "('laws', 13)\n",
      "('country', 50)\n",
      "('where', 152)\n",
      "('before', 150)\n",
      "('using', 10)\n",
      "('eBook.', 2)\n",
      "('Title:', 1)\n",
      "('Author:', 1)\n",
      "('Mark', 2)\n",
      "('Twain', 2)\n",
      "('Release', 1)\n",
      "('date:', 1)\n",
      "('July', 7)\n",
      "('10,', 2)\n",
      "('2004', 1)\n",
      "('[eBook', 1)\n",
      "('#245]', 1)\n",
      "('Most', 4)\n",
      "('recently', 3)\n",
      "('updated:', 1)\n",
      "('January', 2)\n",
      "('1,', 2)\n",
      "('2021', 1)\n",
      "('Language:', 1)\n",
      "('English', 7)\n",
      "('Credits:', 1)\n",
      "('Produced', 2)\n",
      "('by', 623)\n",
      "('David', 2)\n",
      "('Widger.', 2)\n",
      "('Earliest', 2)\n",
      "('PG', 3)\n",
      "('text', 4)\n",
      "('edition', 3)\n",
      "('produced', 15)\n",
      "('Graham', 2)\n",
      "('Allan', 2)\n",
      "('***', 4)\n",
      "('START', 1)\n",
      "('OF', 16)\n",
      "('THE', 29)\n",
      "('PROJECT', 4)\n",
      "('GUTENBERG', 3)\n"
     ]
    }
   ],
   "source": [
    "wdict = {}\n",
    "with open('Life_On_The_Mississippi.txt', 'r') as L:\n",
    "    line = L.readline()\n",
    "    nlines = 1\n",
    "    while line:\n",
    "\n",
    "        words = line.split()\n",
    "        for word in words:\n",
    "            if wdict.get(word) is not None:\n",
    "                wdict[word] += 1\n",
    "            else:\n",
    "                wdict[word] = 1\n",
    "        line = L.readline()\n",
    "        nlines += 1\n",
    "\n",
    "nitem = 0 ; maxitems = 100\n",
    "for item in wdict.items():\n",
    "    nitem += 1\n",
    "    print(item)\n",
    "    if nitem == maxitems: break\n"
   ]
  },
  {
   "cell_type": "markdown",
   "metadata": {},
   "source": [
    "This is unsatisfactory for a few reasons:\n",
    "\n",
    "* There are non-ASCII (Unicode) characters that should be stripped (the so-called \"Byte-Order Mark\" or BOM \\ufeff at the beginning of the text);\n",
    "\n",
    "* There are punctuation marks, which we don't want to concern ourselves with;\n",
    "\n",
    "* The same word can appear capitalized, or lower-case, or with its initial letter upper-cased, whereas we want them all to be normalized to lower-case.\n",
    "\n",
    "Part 1 of this assignment: insert code in this loop to operate on the str variable 'line' so as to fix these problems before 'line' is split into words.\n",
    "\n",
    "A hint to one possible way to do this: use the 'punctuation' character definition in the Python 'string' module, the 'maketrans' and 'translate' methods of Python's str class, to eliminate punctuation, and the regular expression ('re') Python module to eliminate any Unicode---it is useful to know that the regular expression r'[^\\x00-x7f]' means \"any character not in the vanilla ASCII set.\n",
    "\n",
    "Part 2: Add code to sort the contents of wdict by word occurrence frequency.  What are the top 100 most frequent word tokens?  Adding up occurrence frequencies starting from the most frequent words, how many distinct words make up the top 90% of word occurrences in this \"corpus\"?\n",
    "\n",
    "For this part, the docs of Python's 'sorted' and of the helper 'itemgetter' from 'operator' reward study.\n",
    "\n",
    "Write your modified code in the cell below."
   ]
  },
  {
   "cell_type": "markdown",
   "metadata": {},
   "source": [
    "# Homework Solution"
   ]
  },
  {
   "cell_type": "markdown",
   "metadata": {},
   "source": [
    "# Part 1"
   ]
  },
  {
   "cell_type": "code",
   "execution_count": 3,
   "metadata": {},
   "outputs": [],
   "source": [
    "import string\n",
    "import re\n",
    "\n",
    "wdict = {}\n",
    "with open('Life_On_The_Mississippi.txt', 'r', encoding='utf-8-sig') as L:  # Handle BOM\n",
    "    line = L.readline()\n",
    "    nlines = 1\n",
    "    while line:\n",
    "\n",
    "        # Preprocessing:\n",
    "        line = line.lower()  # Normalize to lowercase\n",
    "\n",
    "        # Remove punctuation\n",
    "        translator = str.maketrans('', '', string.punctuation) \n",
    "        line = line.translate(translator)\n",
    "\n",
    "        # Remove non-ASCII characters\n",
    "        line = re.sub(r'[^\\x00-\\x7F]', '', line)\n",
    "\n",
    "        # Tokenization\n",
    "        words = line.split()\n",
    "        for word in words:\n",
    "            if wdict.get(word) is not None:\n",
    "                wdict[word] += 1\n",
    "            else:\n",
    "                wdict[word] = 1\n",
    "        line = L.readline()\n",
    "        nlines += 1"
   ]
  },
  {
   "cell_type": "markdown",
   "metadata": {},
   "source": [
    "# Part 2\n",
    "\n",
    "Sorting the top 100 most frequent words."
   ]
  },
  {
   "cell_type": "code",
   "execution_count": 13,
   "metadata": {},
   "outputs": [
    {
     "name": "stdout",
     "output_type": "stream",
     "text": [
      "Top 100 Most Frequent Words:\n",
      " [('the', 9255), ('and', 5892), ('of', 4532), ('a', 4053), ('to', 3592), ('in', 2593), ('it', 2293), ('i', 2205), ('was', 2093), ('that', 1724), ('he', 1402), ('is', 1148), ('for', 1095), ('with', 1081), ('you', 1033), ('his', 961), ('had', 961), ('but', 952), ('on', 947), ('as', 881), ('this', 781), ('they', 758), ('at', 750), ('not', 722), ('all', 720), ('by', 713), ('one', 686), ('there', 627), ('were', 625), ('be', 617), ('my', 582), ('or', 581), ('from', 577), ('have', 571), ('out', 541), ('so', 536), ('up', 529), ('him', 523), ('we', 519), ('me', 516), ('when', 505), ('would', 478), ('which', 476), ('river', 457), ('an', 440), ('them', 425), ('no', 422), ('then', 405), ('said', 399), ('are', 387), ('if', 381), ('their', 378), ('now', 369), ('about', 346), ('time', 337), ('been', 335), ('down', 328), ('its', 323), ('could', 313), ('has', 305), ('will', 301), ('into', 300), ('what', 285), ('her', 278), ('two', 273), ('do', 271), ('other', 270), ('some', 269), ('man', 260), ('new', 259), ('any', 238), ('got', 234), ('these', 233), ('she', 233), ('who', 229), ('more', 226), ('water', 222), ('did', 214), ('before', 208), ('over', 202), ('way', 202), ('hundred', 200), ('upon', 200), ('here', 199), ('after', 195), ('day', 193), ('than', 192), ('well', 191), ('through', 191), ('get', 190), ('old', 186), ('every', 186), ('can', 185), ('boat', 184), ('went', 183), ('never', 182), ('good', 181), ('years', 181), ('see', 176), ('know', 175)]\n"
     ]
    }
   ],
   "source": [
    "import operator\n",
    "\n",
    "# Sort by frequency of occurrence\n",
    "sorted_wdict = sorted(wdict.items(), key=operator.itemgetter(1), reverse=True)\n",
    "\n",
    "# Get the top 100 most frequent words \n",
    "top_100 = sorted_wdict[:100]\n",
    "print(\"Top 100 Most Frequent Words:\\n\",top_100)\n"
   ]
  },
  {
   "cell_type": "code",
   "execution_count": 17,
   "metadata": {},
   "outputs": [
    {
     "name": "stdout",
     "output_type": "stream",
     "text": [
      "\n",
      "Words making up the top 90% of occurrences 3732\n"
     ]
    }
   ],
   "source": [
    "# Next, we are going to determine how many distinct words make up the top 90% of \n",
    "# word occurrences\n",
    "\n",
    "tot_occurrences = sum(wdict.values()) # Sum the total number of occurrences\n",
    "cumulative_frequency = 0\n",
    "words_of_90_percent = 0\n",
    "\n",
    "for word, freq in sorted_wdict:\n",
    "    cumulative_frequency += freq\n",
    "    words_of_90_percent += 1\n",
    "    if cumulative_frequency/tot_occurrences >= 0.9:\n",
    "        break\n",
    "        \n",
    "print('\\nWords making up the top 90% of occurrences', words_of_90_percent)\n"
   ]
  }
 ],
 "metadata": {
  "kernelspec": {
   "display_name": "datascience/conda-2023-01-10",
   "language": "python",
   "name": "conda-2023-01-10"
  },
  "language_info": {
   "codemirror_mode": {
    "name": "ipython",
    "version": 3
   },
   "file_extension": ".py",
   "mimetype": "text/x-python",
   "name": "python",
   "nbconvert_exporter": "python",
   "pygments_lexer": "ipython3",
   "version": "3.10.9"
  }
 },
 "nbformat": 4,
 "nbformat_minor": 4
}
